{
 "cells": [
  {
   "cell_type": "code",
   "execution_count": 1,
   "metadata": {
    "_cell_guid": "b1076dfc-b9ad-4769-8c92-a6c4dae69d19",
    "_uuid": "8f2839f25d086af736a60e9eeb907d3b93b6e0e5"
   },
   "outputs": [
    {
     "name": "stderr",
     "output_type": "stream",
     "text": [
      "C:\\Users\\20520\\AppData\\Local\\Programs\\Python\\Python312\\Lib\\site-packages\\tqdm\\auto.py:21: TqdmWarning: IProgress not found. Please update jupyter and ipywidgets. See https://ipywidgets.readthedocs.io/en/stable/user_install.html\n",
      "  from .autonotebook import tqdm as notebook_tqdm\n",
      "C:\\Users\\20520\\AppData\\Local\\Temp\\ipykernel_18940\\787579030.py:12: FutureWarning: load_metric is deprecated and will be removed in the next major version of datasets. Use 'evaluate.load' instead, from the new library 🤗 Evaluate: https://huggingface.co/docs/evaluate\n",
      "  exact_match_metric = load_metric(\"exact_match\")\n",
      "C:\\Users\\20520\\AppData\\Local\\Programs\\Python\\Python312\\Lib\\site-packages\\datasets\\load.py:759: FutureWarning: The repository for exact_match contains custom code which must be executed to correctly load the metric. You can inspect the repository content at https://raw.githubusercontent.com/huggingface/datasets/2.19.1/metrics/exact_match/exact_match.py\n",
      "You can avoid this message in future by passing the argument `trust_remote_code=True`.\n",
      "Passing `trust_remote_code=True` will be mandatory to load this metric from the next major release of `datasets`.\n",
      "  warnings.warn(\n"
     ]
    }
   ],
   "source": [
    "import numpy as np\n",
    "import pandas as pd\n",
    "import torch\n",
    "import re\n",
    "from transformers import T5Tokenizer, T5ForConditionalGeneration, AdamW\n",
    "from torch.utils.data import DataLoader, Dataset\n",
    "from sklearn import metrics\n",
    "from sklearn.preprocessing import LabelBinarizer\n",
    "from evaluate import load\n",
    "bertscore = load(\"bertscore\")\n",
    "from datasets import load_metric\n",
    "exact_match_metric = load_metric(\"exact_match\")\n",
    "lb = LabelBinarizer()"
   ]
  },
  {
   "cell_type": "code",
   "execution_count": 2,
   "metadata": {},
   "outputs": [
    {
     "data": {
      "text/plain": [
       "True"
      ]
     },
     "execution_count": 2,
     "metadata": {},
     "output_type": "execute_result"
    }
   ],
   "source": [
    "import torch\n",
    "torch.cuda.is_available()"
   ]
  },
  {
   "cell_type": "markdown",
   "metadata": {},
   "source": [
    "# Load model"
   ]
  },
  {
   "cell_type": "code",
   "execution_count": 3,
   "metadata": {},
   "outputs": [
    {
     "data": {
      "text/plain": [
       "T5ForConditionalGeneration(\n",
       "  (shared): Embedding(32128, 768)\n",
       "  (encoder): T5Stack(\n",
       "    (embed_tokens): Embedding(32128, 768)\n",
       "    (block): ModuleList(\n",
       "      (0): T5Block(\n",
       "        (layer): ModuleList(\n",
       "          (0): T5LayerSelfAttention(\n",
       "            (SelfAttention): T5Attention(\n",
       "              (q): Linear(in_features=768, out_features=768, bias=False)\n",
       "              (k): Linear(in_features=768, out_features=768, bias=False)\n",
       "              (v): Linear(in_features=768, out_features=768, bias=False)\n",
       "              (o): Linear(in_features=768, out_features=768, bias=False)\n",
       "              (relative_attention_bias): Embedding(32, 12)\n",
       "            )\n",
       "            (layer_norm): T5LayerNorm()\n",
       "            (dropout): Dropout(p=0.1, inplace=False)\n",
       "          )\n",
       "          (1): T5LayerFF(\n",
       "            (DenseReluDense): T5DenseActDense(\n",
       "              (wi): Linear(in_features=768, out_features=3072, bias=False)\n",
       "              (wo): Linear(in_features=3072, out_features=768, bias=False)\n",
       "              (dropout): Dropout(p=0.1, inplace=False)\n",
       "              (act): ReLU()\n",
       "            )\n",
       "            (layer_norm): T5LayerNorm()\n",
       "            (dropout): Dropout(p=0.1, inplace=False)\n",
       "          )\n",
       "        )\n",
       "      )\n",
       "      (1-11): 11 x T5Block(\n",
       "        (layer): ModuleList(\n",
       "          (0): T5LayerSelfAttention(\n",
       "            (SelfAttention): T5Attention(\n",
       "              (q): Linear(in_features=768, out_features=768, bias=False)\n",
       "              (k): Linear(in_features=768, out_features=768, bias=False)\n",
       "              (v): Linear(in_features=768, out_features=768, bias=False)\n",
       "              (o): Linear(in_features=768, out_features=768, bias=False)\n",
       "            )\n",
       "            (layer_norm): T5LayerNorm()\n",
       "            (dropout): Dropout(p=0.1, inplace=False)\n",
       "          )\n",
       "          (1): T5LayerFF(\n",
       "            (DenseReluDense): T5DenseActDense(\n",
       "              (wi): Linear(in_features=768, out_features=3072, bias=False)\n",
       "              (wo): Linear(in_features=3072, out_features=768, bias=False)\n",
       "              (dropout): Dropout(p=0.1, inplace=False)\n",
       "              (act): ReLU()\n",
       "            )\n",
       "            (layer_norm): T5LayerNorm()\n",
       "            (dropout): Dropout(p=0.1, inplace=False)\n",
       "          )\n",
       "        )\n",
       "      )\n",
       "    )\n",
       "    (final_layer_norm): T5LayerNorm()\n",
       "    (dropout): Dropout(p=0.1, inplace=False)\n",
       "  )\n",
       "  (decoder): T5Stack(\n",
       "    (embed_tokens): Embedding(32128, 768)\n",
       "    (block): ModuleList(\n",
       "      (0): T5Block(\n",
       "        (layer): ModuleList(\n",
       "          (0): T5LayerSelfAttention(\n",
       "            (SelfAttention): T5Attention(\n",
       "              (q): Linear(in_features=768, out_features=768, bias=False)\n",
       "              (k): Linear(in_features=768, out_features=768, bias=False)\n",
       "              (v): Linear(in_features=768, out_features=768, bias=False)\n",
       "              (o): Linear(in_features=768, out_features=768, bias=False)\n",
       "              (relative_attention_bias): Embedding(32, 12)\n",
       "            )\n",
       "            (layer_norm): T5LayerNorm()\n",
       "            (dropout): Dropout(p=0.1, inplace=False)\n",
       "          )\n",
       "          (1): T5LayerCrossAttention(\n",
       "            (EncDecAttention): T5Attention(\n",
       "              (q): Linear(in_features=768, out_features=768, bias=False)\n",
       "              (k): Linear(in_features=768, out_features=768, bias=False)\n",
       "              (v): Linear(in_features=768, out_features=768, bias=False)\n",
       "              (o): Linear(in_features=768, out_features=768, bias=False)\n",
       "            )\n",
       "            (layer_norm): T5LayerNorm()\n",
       "            (dropout): Dropout(p=0.1, inplace=False)\n",
       "          )\n",
       "          (2): T5LayerFF(\n",
       "            (DenseReluDense): T5DenseActDense(\n",
       "              (wi): Linear(in_features=768, out_features=3072, bias=False)\n",
       "              (wo): Linear(in_features=3072, out_features=768, bias=False)\n",
       "              (dropout): Dropout(p=0.1, inplace=False)\n",
       "              (act): ReLU()\n",
       "            )\n",
       "            (layer_norm): T5LayerNorm()\n",
       "            (dropout): Dropout(p=0.1, inplace=False)\n",
       "          )\n",
       "        )\n",
       "      )\n",
       "      (1-11): 11 x T5Block(\n",
       "        (layer): ModuleList(\n",
       "          (0): T5LayerSelfAttention(\n",
       "            (SelfAttention): T5Attention(\n",
       "              (q): Linear(in_features=768, out_features=768, bias=False)\n",
       "              (k): Linear(in_features=768, out_features=768, bias=False)\n",
       "              (v): Linear(in_features=768, out_features=768, bias=False)\n",
       "              (o): Linear(in_features=768, out_features=768, bias=False)\n",
       "            )\n",
       "            (layer_norm): T5LayerNorm()\n",
       "            (dropout): Dropout(p=0.1, inplace=False)\n",
       "          )\n",
       "          (1): T5LayerCrossAttention(\n",
       "            (EncDecAttention): T5Attention(\n",
       "              (q): Linear(in_features=768, out_features=768, bias=False)\n",
       "              (k): Linear(in_features=768, out_features=768, bias=False)\n",
       "              (v): Linear(in_features=768, out_features=768, bias=False)\n",
       "              (o): Linear(in_features=768, out_features=768, bias=False)\n",
       "            )\n",
       "            (layer_norm): T5LayerNorm()\n",
       "            (dropout): Dropout(p=0.1, inplace=False)\n",
       "          )\n",
       "          (2): T5LayerFF(\n",
       "            (DenseReluDense): T5DenseActDense(\n",
       "              (wi): Linear(in_features=768, out_features=3072, bias=False)\n",
       "              (wo): Linear(in_features=3072, out_features=768, bias=False)\n",
       "              (dropout): Dropout(p=0.1, inplace=False)\n",
       "              (act): ReLU()\n",
       "            )\n",
       "            (layer_norm): T5LayerNorm()\n",
       "            (dropout): Dropout(p=0.1, inplace=False)\n",
       "          )\n",
       "        )\n",
       "      )\n",
       "    )\n",
       "    (final_layer_norm): T5LayerNorm()\n",
       "    (dropout): Dropout(p=0.1, inplace=False)\n",
       "  )\n",
       "  (lm_head): Linear(in_features=768, out_features=32128, bias=False)\n",
       ")"
      ]
     },
     "execution_count": 3,
     "metadata": {},
     "output_type": "execute_result"
    }
   ],
   "source": [
    "# Load lại mô hình và tokenizer để kiểm tra\n",
    "model = T5ForConditionalGeneration.from_pretrained('t5-base')\n",
    "model.load_state_dict(torch.load('model/spider/spider_model.pt'))\n",
    "model.eval()"
   ]
  },
  {
   "cell_type": "code",
   "execution_count": 4,
   "metadata": {},
   "outputs": [
    {
     "name": "stderr",
     "output_type": "stream",
     "text": [
      "You are using the default legacy behaviour of the <class 'transformers.models.t5.tokenization_t5.T5Tokenizer'>. This is expected, and simply means that the `legacy` (previous) behavior will be used so nothing changes for you. If you want to use the new behaviour, set `legacy=False`. This should only be set if you understand what it means, and thoroughly read the reason why this was added as explained in https://github.com/huggingface/transformers/pull/24565\n",
      "Special tokens have been added in the vocabulary, make sure the associated word embeddings are fine-tuned or trained.\n"
     ]
    }
   ],
   "source": [
    "tokenizer = T5Tokenizer.from_pretrained('t5-base')"
   ]
  },
  {
   "cell_type": "markdown",
   "metadata": {},
   "source": [
    "# Predict Validation text"
   ]
  },
  {
   "cell_type": "code",
   "execution_count": 5,
   "metadata": {},
   "outputs": [],
   "source": [
    "total_sentences = 100\n",
    "# Load the dataset\n",
    "df = pd.read_csv(\"data/spider/spider_schema_validation.csv\", nrows = total_sentences)"
   ]
  },
  {
   "cell_type": "code",
   "execution_count": 6,
   "metadata": {},
   "outputs": [],
   "source": [
    "# Function to generate SQL query\n",
    "def generate_sql_query(question):\n",
    "    input_ids = tokenizer.encode(question, return_tensors='pt')\n",
    "    outputs = model.generate(input_ids=input_ids, max_length=100, num_beams=5, early_stopping=True)\n",
    "    sql_query = tokenizer.decode(outputs[0], skip_special_tokens=True)\n",
    "    return sql_query\n"
   ]
  },
  {
   "cell_type": "code",
   "execution_count": 7,
   "metadata": {},
   "outputs": [],
   "source": [
    "# Generate SQL queries for each question in the CSV\n",
    "df['sql_query'] = df['question'].apply(generate_sql_query)"
   ]
  },
  {
   "cell_type": "code",
   "execution_count": 8,
   "metadata": {},
   "outputs": [
    {
     "name": "stdout",
     "output_type": "stream",
     "text": [
      "Generated SQL queries saved to data/spider/spider_tex2sql_predict.csv\n"
     ]
    }
   ],
   "source": [
    "output_df = df[['question','sql','sql_query']]\n",
    "# Save the results to a new CSV file\n",
    "output_file = \"data/spider/spider_tex2sql_predict.csv\"\n",
    "output_df.to_csv(output_file, index=False)\n",
    "print(f\"Generated SQL queries saved to {output_file}\")"
   ]
  },
  {
   "cell_type": "markdown",
   "metadata": {},
   "source": [
    "# Get sql and sql predict"
   ]
  },
  {
   "cell_type": "code",
   "execution_count": 9,
   "metadata": {},
   "outputs": [],
   "source": [
    "def preprocess_sql(sql_query):\n",
    "    # Loại bỏ khoảng trắng dư thừa\n",
    "    sql_query = re.sub(r'\\s+', ' ', sql_query)\n",
    "\n",
    "    # Loại bỏ khoảng trắng trước dấu phẩy\n",
    "    sql_query = re.sub(r'\\s*,', ',', sql_query)\n",
    "\n",
    "    # Đổi dấu cách trước và sau các toán tử so sánh\n",
    "    sql_query = re.sub(r'(\\S)([><=]+)(\\S)', r'\\1 \\2 \\3', sql_query)\n",
    "\n",
    "    # Chuẩn hóa các từ khóa SQL\n",
    "    sql_keywords = ['SELECT', 'FROM', 'WHERE', 'AND', 'OR', 'NOT', 'ORDER BY', 'GROUP BY', 'HAVING', 'LIMIT']\n",
    "    for keyword in sql_keywords:\n",
    "        sql_query = re.sub(r'\\b' + keyword.lower() + r'\\b', keyword, sql_query, flags=re.IGNORECASE)\n",
    "\n",
    "    # Loại bỏ khoảng trắng ở đầu và cuối câu SQL\n",
    "    sql_query = sql_query.strip()\n",
    "\n",
    "    # Thêm dấu cách sau dấu phẩy nếu sau dấu phẩy không có khoảng trắng\n",
    "    sql_query = re.sub(r',(?!\\s)', ', ', sql_query)\n",
    "\n",
    "    return sql_query"
   ]
  },
  {
   "cell_type": "code",
   "execution_count": 10,
   "metadata": {},
   "outputs": [],
   "source": [
    "target = df[\"sql\"].apply(preprocess_sql)\n",
    "predictions = df['sql_query'].apply(preprocess_sql)"
   ]
  },
  {
   "cell_type": "markdown",
   "metadata": {},
   "source": [
    "# Metric: rocauc"
   ]
  },
  {
   "cell_type": "raw",
   "metadata": {},
   "source": [
    "Số liệu này tính toán diện tích dưới đường cong (AUC) cho Đường cong đặc tính hoạt động của máy thu (ROC). Các giá trị trả về thể hiện mức độ dự đoán chính xác của mô hình được sử dụng dựa trên dữ liệu đầu vào. Điểm 0,5 có nghĩa là mô hình đang dự đoán chính xác một cách ngẫu nhiên, tức là các dự đoán của mô hình đúng với tỷ lệ tương tự như khi các dự đoán được quyết định bằng cách tung đồng xu công bằng hoặc tung xúc xắc công bằng. \n",
    "\n",
    "Điểm trên 0,5 cho thấy mô hình đang hoạt động tốt hơn cơ hội, trong khi điểm dưới 0,5 cho thấy mô hình đang hoạt động kém hơn cơ hội.\n",
    "\n",
    "Có ba trường hợp sử dụng riêng biệt:\n",
    "\n",
    "binary: Trường hợp chỉ có hai lớp nhãn khác nhau và mỗi mẫu chỉ có một nhãn. Đây là cách thực hiện mặc định.\n",
    "multiclass: Trường hợp có thể có nhiều hơn hai lớp nhãn khác nhau, nhưng mỗi mẫu vẫn chỉ có một nhãn.\n",
    "multilabel: Trường hợp có thể có nhiều hơn hai lớp nhãn khác nhau và mỗi ví dụ có thể có nhiều hơn một nhãn."
   ]
  },
  {
   "cell_type": "code",
   "execution_count": 11,
   "metadata": {},
   "outputs": [],
   "source": [
    "# Function to calculate ROC AUC for multiclass\n",
    "def calculate_multiclass_roc_auc(target, predictions):\n",
    "    '''\n",
    "    This method returns the AUC Score for multiclass classification\n",
    "    '''\n",
    "    # Check if the predictions are probabilities or labels\n",
    "    if len(predictions.shape) == 1 or predictions.shape[1] == 1:\n",
    "        predictions_binarized = lb.transform(predictions)\n",
    "    else:\n",
    "        predictions_binarized = predictions\n",
    "    \n",
    "    return metrics.roc_auc_score(target, predictions_binarized, multi_class='ovr')\n"
   ]
  },
  {
   "cell_type": "code",
   "execution_count": 12,
   "metadata": {},
   "outputs": [],
   "source": [
    "target_binarized = lb.fit_transform(target)\n",
    "predictions_binarized = predictions"
   ]
  },
  {
   "cell_type": "code",
   "execution_count": 13,
   "metadata": {},
   "outputs": [
    {
     "name": "stdout",
     "output_type": "stream",
     "text": [
      "ROC AUC Score: 0.8642338291248703\n"
     ]
    }
   ],
   "source": [
    "# Calculate the ROC AUC score for multiclass\n",
    "roc_auc_score = calculate_multiclass_roc_auc(target_binarized, predictions_binarized)\n",
    "\n",
    "print(f\"ROC AUC Score: {roc_auc_score}\")"
   ]
  },
  {
   "cell_type": "markdown",
   "metadata": {},
   "source": [
    "# Metric: exact_match"
   ]
  },
  {
   "cell_type": "raw",
   "metadata": {},
   "source": [
    "Exact Match Accuracy: Đây là độ đo đơn giản và trực quan nhất. Nó kiểm tra xem câu SQL dự đoán có khớp hoàn toàn với câu SQL gốc hay không. Độ chính xác này chỉ cao khi toàn bộ câu SQL dự đoán hoàn toàn khớp với câu SQL gốc, bao gồm cả từ khóa, tên bảng, tên cột, và giá trị.\n",
    "\n",
    "Ưu điểm: Rất trực quan và dễ hiểu.\n",
    "Nhược điểm: Khá nghiêm ngặt và có thể không công bằng trong một số trường hợp, như khi chỉ có sai sót nhỏ nhưng không ảnh hưởng đến ý nghĩa của câu SQL."
   ]
  },
  {
   "cell_type": "raw",
   "metadata": {},
   "source": [
    "Regex_to_ignore (danh sách str): Biểu thức Regex của các ký tự cần bỏ qua khi tính toán kết quả khớp chính xác. Mặc định là Không. Lưu ý: các thay đổi biểu thức chính quy được áp dụng trước khi viết hoa được chuẩn hóa.\n",
    "\n",
    "ign_case (bool): Nếu Đúng, chuyển mọi thứ thành chữ thường để bỏ qua sự khác biệt về cách viết hoa. Mặc định là Sai.\n",
    "\n",
    "ign_punctuation (bool): Nếu Đúng, xóa dấu câu trước khi so sánh các chuỗi. Mặc định là Sai.\n",
    "\n",
    "ign_numbers (bool): Nếu Đúng, xóa tất cả các chữ số trước khi so sánh chuỗi. Mặc định là Sai."
   ]
  },
  {
   "cell_type": "code",
   "execution_count": 14,
   "metadata": {},
   "outputs": [
    {
     "name": "stdout",
     "output_type": "stream",
     "text": [
      "{'exact_match': 75.0}\n",
      "Cặp không khớp thứ 3:\n",
      "Câu dự đoán: SELECT creation, name, budget_in_year FROM department\n",
      "Câu tham chiếu: SELECT creation, name, budget_in_billions FROM department\n",
      "\n",
      "Cặp không khớp thứ 4:\n",
      "Câu dự đoán: SELECT max(budget_in_billion), min(budget_in_billion) FROM department\n",
      "Câu tham chiếu: SELECT max(budget_in_billions), min(budget_in_billions) FROM department\n",
      "\n",
      "Cặp không khớp thứ 5:\n",
      "Câu dự đoán: SELECT avg(num_employees) FROM department WHERE rank BETWEEN 10 AND 15\n",
      "Câu tham chiếu: SELECT avg(num_employees) FROM department WHERE ranking BETWEEN 10 AND 15\n",
      "\n",
      "Cặp không khớp thứ 6:\n",
      "Câu dự đoán: SELECT name FROM head WHERE born_state!= 'California'\n",
      "Câu tham chiếu: SELECT name FROM head WHERE born_state != 'California'\n",
      "\n",
      "Cặp không khớp thứ 13:\n",
      "Câu dự đoán: SELECT DISTINCT T1.age FROM management AS T1 JOIN head AS T2 ON T1.head_id = T2.head_id WHERE T2.temporary_acting = 'Yes'\n",
      "Câu tham chiếu: SELECT DISTINCT T1.age FROM management AS T2 JOIN head AS T1 ON T1.head_id = T2.head_id WHERE T2.temporary_acting = 'Yes'\n",
      "\n",
      "Cặp không khớp thứ 14:\n",
      "Câu dự đoán: SELECT T3.born_state FROM department AS T1 JOIN management AS T2 ON T1.department_id = T2.department_id JOIN head AS T3 ON T2.head_id = T3.head_id WHERE T1.name = 'Treasury' INTERSECT SELECT T3.born_state FROM department AS T1 JOIN management AS T2 ON T\n",
      "Câu tham chiếu: SELECT T3.born_state FROM department AS T1 JOIN management AS T2 ON T1.department_id = T2.department_id JOIN head AS T3 ON T2.head_id = T3.head_id WHERE T1.name = 'Treasury' INTERSECT SELECT T3.born_state FROM department AS T1 JOIN management AS T2 ON T1.department_id = T2.department_id JOIN head AS T3 ON T2.head_id = T3.head_id WHERE T1.name = 'Homeland Security'\n",
      "\n",
      "Cặp không khớp thứ 15:\n",
      "Câu dự đoán: SELECT T1.department_id, T1.name, count(*) FROM management AS T1 JOIN department AS T2 ON T1.department_id = T2.department_id GROUP BY T1.department_id HAVING count(*) > 1\n",
      "Câu tham chiếu: SELECT T1.department_id, T1.name, count(*) FROM management AS T2 JOIN department AS T1 ON T1.department_id = T2.department_id GROUP BY T1.department_id HAVING count(*) > 1\n",
      "\n",
      "Cặp không khớp thứ 21:\n",
      "Câu dự đoán: SELECT Hosts FROM farm_competition WHERE Theme!= 'Aliens'\n",
      "Câu tham chiếu: SELECT Hosts FROM farm_competition WHERE Theme != 'Aliens'\n",
      "\n",
      "Cặp không khớp thứ 22:\n",
      "Câu dự đoán: SELECT Hosts FROM farm_competition WHERE Theme!= 'Aliens'\n",
      "Câu tham chiếu: SELECT Hosts FROM farm_competition WHERE Theme != 'Aliens'\n",
      "\n",
      "Cặp không khớp thứ 45:\n",
      "Câu dự đoán: SELECT Status FROM city GROUP BY Status ORDER BY COUNT(*)\n",
      "Câu tham chiếu: SELECT Status FROM city GROUP BY Status ORDER BY COUNT(*) ASC\n",
      "\n",
      "Cặp không khớp thứ 49:\n",
      "Câu dự đoán: SELECT Official_Name FROM city WHERE City_ID NOT IN (SELECT Host_city_ID FROM competition)\n",
      "Câu tham chiếu: SELECT Official_Name FROM city WHERE City_ID NOT IN (SELECT Host_city_ID FROM farm_competition)\n",
      "\n",
      "Cặp không khớp thứ 51:\n",
      "Câu dự đoán: SELECT Status FROM city WHERE Population > 1500 INTERSECT SELECT Status FROM city WHERE Population 500\n",
      "Câu tham chiếu: SELECT Status FROM city WHERE Population > 1500 INTERSECT SELECT Status FROM city WHERE Population < 500\n",
      "\n",
      "Cặp không khớp thứ 52:\n",
      "Câu dự đoán: SELECT Status FROM city WHERE Population > 1500 INTERSECT SELECT Status FROM city WHERE Population 500\n",
      "Câu tham chiếu: SELECT Status FROM city WHERE Population > 1500 INTERSECT SELECT Status FROM city WHERE Population < 500\n",
      "\n",
      "Cặp không khớp thứ 53:\n",
      "Câu dự đoán: SELECT Official_Name FROM city WHERE Population > 1500 OR Population 500\n",
      "Câu tham chiếu: SELECT Official_Name FROM city WHERE Population > 1500 OR Population < 500\n",
      "\n",
      "Cặp không khớp thứ 54:\n",
      "Câu dự đoán: SELECT Official_Name FROM city WHERE Population > 1500 OR Population 500\n",
      "Câu tham chiếu: SELECT Official_Name FROM city WHERE Population > 1500 OR Population < 500\n",
      "\n",
      "Cặp không khớp thứ 55:\n",
      "Câu dự đoán: SELECT Census_Ranking FROM city WHERE Status!= \"Village\"\n",
      "Câu tham chiếu: SELECT Census_Ranking FROM city WHERE Status != \"Village\"\n",
      "\n",
      "Cặp không khớp thứ 56:\n",
      "Câu dự đoán: SELECT Census_Ranking FROM city WHERE Status!= \"Village\"\n",
      "Câu tham chiếu: SELECT Census_Ranking FROM city WHERE Status != \"Village\"\n",
      "\n",
      "Cặp không khớp thứ 57:\n",
      "Câu dự đoán: SELECT T1.course_name FROM courses AS T1 JOIN student_course_registrations AS T2 ON T1.course_id = T2.course_id GROUP BY T1.course_id ORDER BY count(*) DESC LIMIT 1\n",
      "Câu tham chiếu: SELECT T1.course_name FROM courses AS T1 JOIN student_course_registrations AS T2 ON T1.course_id = T2.course_Id GROUP BY T1.course_id ORDER BY count(*) DESC LIMIT 1\n",
      "\n",
      "Cặp không khớp thứ 58:\n",
      "Câu dự đoán: SELECT T1.course_name FROM courses AS T1 JOIN student_course_registrations AS T2 ON T1.course_id = T2.course_id GROUP BY T1.course_id ORDER BY count(*) DESC LIMIT 1\n",
      "Câu tham chiếu: SELECT T1.course_name FROM courses AS T1 JOIN student_course_registrations AS T2 ON T1.course_id = T2.course_Id GROUP BY T1.course_id ORDER BY count(*) DESC LIMIT 1\n",
      "\n",
      "Cặp không khớp thứ 63:\n",
      "Câu dự đoán: SELECT student_id FROM student_course_attendance\n",
      "Câu tham chiếu: SELECT student_id FROM students WHERE student_id NOT IN (SELECT student_id FROM student_course_attendance)\n",
      "\n",
      "Cặp không khớp thứ 64:\n",
      "Câu dự đoán: SELECT student_id FROM student_course_attendance\n",
      "Câu tham chiếu: SELECT student_id FROM students WHERE student_id NOT IN (SELECT student_id FROM student_course_attendance)\n",
      "\n",
      "Cặp không khớp thứ 72:\n",
      "Câu dự đoán: SELECT count(*) FROM Courses AS T1 JOIN Student AS T2 ON T1.student_id = T2.student_id WHERE T2.student_id = 171\n",
      "Câu tham chiếu: SELECT count(*) FROM courses AS T1 JOIN student_course_attendance AS T2 ON T1.course_id = T2.course_id WHERE T2.student_id = 171\n",
      "\n",
      "Cặp không khớp thứ 87:\n",
      "Câu dự đoán: SELECT T3.cell_mobile_number FROM candidates AS T1 JOIN candidate_assessments AS T2 ON T1.candidate_id = T2.candidate_id JOIN people AS T3 ON T1.candidate_id = T3.person_id WHERE T1.asessment_outcome_code = \"Fail\"\n",
      "Câu tham chiếu: SELECT T3.cell_mobile_number FROM candidates AS T1 JOIN candidate_assessments AS T2 ON T1.candidate_id = T2.candidate_id JOIN people AS T3 ON T1.candidate_id = T3.person_id WHERE T2.asessment_outcome_code = \"Fail\"\n",
      "\n",
      "Cặp không khớp thứ 92:\n",
      "Câu dự đoán: SELECT DISTINCT T1.city FROM addresses AS T1 JOIN people AS T2 ON T1.address_id = T2.address_id\n",
      "Câu tham chiếu: SELECT DISTINCT T1.city FROM addresses AS T1 JOIN people_addresses AS T2 ON T1.address_id = T2.address_id\n",
      "\n",
      "Cặp không khớp thứ 95:\n",
      "Câu dự đoán: SELECT DISTINCT T1.city FROM Addresses AS T1 JOIN Students AS T2 ON T1.address_id = T2.address_id\n",
      "Câu tham chiếu: SELECT DISTINCT T1.city FROM addresses AS T1 JOIN people_addresses AS T2 ON T1.address_id = T2.address_id JOIN students AS T3 ON T2.person_id = T3.student_id\n",
      "\n",
      "số cặp không khớp:  25\n"
     ]
    }
   ],
   "source": [
    "# Đầu tiên, tính toán kết quả exact_match\n",
    "results_exact_match = exact_match_metric.compute(predictions=predictions, references=target)\n",
    "print(results_exact_match)\n",
    "# Lặp qua các cặp câu dự đoán và câu tham chiếu để in ra các cặp không khớp\n",
    "error =0\n",
    "for idx, (predicted_sql, reference_sql) in enumerate(zip(predictions, target)):\n",
    "    if predicted_sql != reference_sql:\n",
    "        error += 1\n",
    "        print(f\"Cặp không khớp thứ {idx + 1}:\")\n",
    "        print(\"Câu dự đoán:\", predicted_sql)\n",
    "        print(\"Câu tham chiếu:\", reference_sql)\n",
    "        print()  # In một dòng trống để phân biệt các cặp không khớp\n",
    "print(\"số cặp không khớp: \", error)\n"
   ]
  },
  {
   "cell_type": "code",
   "execution_count": 26,
   "metadata": {},
   "outputs": [
    {
     "name": "stdout",
     "output_type": "stream",
     "text": [
      "100.0\n"
     ]
    }
   ],
   "source": [
    "refs = [\"SELECT max(budget_in_billions), min(budget_in_billions) FROM department\"\n",
    "        , \"SELECT avg(num_employees) FROM department WHERE rank BETWEEN 10 AND 15\"\n",
    "        , \"SELECT DISTINCT T1.age FROM management AS T2 JOIN head AS T1 ON T1.head_id = T2.head_id WHERE T2.temporary_acting = 'Yes'\"\n",
    "        , \"SELECT Hosts FROM farm_competition WHERE Theme!= 'Aliens'\"]\n",
    "preds = [\"SELECT max(budget_in_billion), min(budget_in_billion) FROM department\"\n",
    "         , \"SELECT avg(num_employees) FROM department WHERE rank BETWEEN 10 AND 15\"\n",
    "         , \"SELECT DISTINCT T1.age FROM management AS T1 JOIN head AS T2 ON T1.head_id = T2.head_id WHERE T2.temporary_acting = 'Yes'\"\n",
    "         , \"SELECT Hosts FROM farm_competition WHERE Theme!= 'Aliens'\"]\n",
    "results = exact_match_metric.compute(references=refs, predictions=preds, regexes_to_ignore=[\" \", \"s\",\"es\",\"!\", \"ing\"], ignore_case=True, ignore_punctuation=False, ignore_numbers=True)\n",
    "print(round(results[\"exact_match\"], 2))"
   ]
  },
  {
   "cell_type": "code",
   "execution_count": 27,
   "metadata": {},
   "outputs": [
    {
     "name": "stdout",
     "output_type": "stream",
     "text": [
      "91.0\n"
     ]
    }
   ],
   "source": [
    "results = exact_match_metric.compute(references=target, predictions=predictions, regexes_to_ignore=[\" \", \"s\",\"es\",\"!\", \"ing\"], ignore_case=True, ignore_punctuation=True, ignore_numbers=True)\n",
    "print(round(results[\"exact_match\"], 2))"
   ]
  },
  {
   "cell_type": "markdown",
   "metadata": {},
   "source": [
    "# Metric: bert_score"
   ]
  },
  {
   "cell_type": "raw",
   "metadata": {},
   "source": [
    "Precision: Đây là tỷ lệ giữa số lượng các dự đoán đúng và tổng số lượng các dự đoán được thực hiện. Trong ngữ cảnh của BERTScore, precision đo lường tỷ lệ token trong dự đoán mà mô hình đúng đắn so với tất cả các token trong dự đoán.\n",
    "\n",
    "Recall: Đây là tỷ lệ giữa số lượng các dự đoán đúng và tổng số lượng các token trong tham chiếu. Recall đo lường tỷ lệ token trong tham chiếu mà mô hình đúng đắn so với tất cả các token trong tham chiếu.\n",
    "\n",
    "F1-score: Đây là trung bình điều hòa của precision và recall. F1-score cung cấp một cách tổng hợp để đo lường hiệu suất của mô hình, bằng cách cân nhắc cả precision và recall"
   ]
  },
  {
   "cell_type": "code",
   "execution_count": 17,
   "metadata": {},
   "outputs": [],
   "source": [
    "def compute_average_results(results):\n",
    "    average_results = {}\n",
    "    for key in results:\n",
    "        if isinstance(results[key], list) and all(isinstance(x, (int, float)) for x in results[key]):\n",
    "            average_results[key] = np.mean(results[key])\n",
    "        else:\n",
    "            average_results[key] = None\n",
    "    return average_results"
   ]
  },
  {
   "cell_type": "code",
   "execution_count": 18,
   "metadata": {},
   "outputs": [
    {
     "name": "stdout",
     "output_type": "stream",
     "text": [
      "{'precision': [0.9867746829986572, 1.0000001192092896, 0.9980701804161072, 1.0], 'recall': [0.9867746829986572, 1.0000001192092896, 0.9980701804161072, 1.0], 'f1': [0.9867746829986572, 1.0000001192092896, 0.9980701804161072, 1.0], 'hashcode': 'distilbert-base-uncased_L5_no-idf_version=0.3.12(hug_trans=4.41.1)'}\n"
     ]
    }
   ],
   "source": [
    "pred = [\"SELECT max(budget_in_billion), min(budget_in_billion) FROM department\"\n",
    "         , \"SELECT avg(num_employees) FROM department WHERE rank BETWEEN 10 AND 15\"\n",
    "         , \"SELECT DISTINCT T1.age FROM management AS T1 JOIN head AS T2 ON T1.head_id = T2.head_id WHERE T2.temporary_acting = 'Yes'\"\n",
    "         , \"SELECT Hosts FROM farm_competition WHERE Theme!= 'Aliens'\"]\n",
    "ref = [\"SELECT max(budget_in_billions), min(budget_in_billions) FROM department\"\n",
    "        , \"SELECT avg(num_employees) FROM department WHERE rank BETWEEN 10 AND 15\"\n",
    "        , \"SELECT DISTINCT T1.age FROM management AS T2 JOIN head AS T1 ON T1.head_id = T2.head_id WHERE T2.temporary_acting = 'Yes'\"\n",
    "        , \"SELECT Hosts FROM farm_competition WHERE Theme!= 'Aliens'\"]\n",
    "results = bertscore.compute(predictions=pred, references=ref, model_type=\"distilbert-base-uncased\")\n",
    "print(results)\n"
   ]
  },
  {
   "cell_type": "code",
   "execution_count": 19,
   "metadata": {},
   "outputs": [
    {
     "name": "stderr",
     "output_type": "stream",
     "text": [
      "C:\\Users\\20520\\AppData\\Local\\Programs\\Python\\Python312\\Lib\\site-packages\\transformers\\models\\bert\\modeling_bert.py:435: UserWarning: 1Torch was not compiled with flash attention. (Triggered internally at ..\\aten\\src\\ATen\\native\\transformers\\cuda\\sdp_utils.cpp:455.)\n",
      "  attn_output = torch.nn.functional.scaled_dot_product_attention(\n"
     ]
    },
    {
     "name": "stdout",
     "output_type": "stream",
     "text": [
      "Kết quả trung bình chính xác: {'precision': 0.9929775285720825, 'recall': 0.9873931401968002, 'f1': 0.9900400310754776, 'hashcode': None}\n"
     ]
    }
   ],
   "source": [
    "results_bertscore = bertscore.compute(predictions=predictions, references=target, model_type=\"bert-base-uncased\")\n",
    "print(\"Kết quả trung bình chính xác:\", compute_average_results(results_bertscore))"
   ]
  },
  {
   "cell_type": "markdown",
   "metadata": {},
   "source": [
    "# Try with new question"
   ]
  },
  {
   "cell_type": "code",
   "execution_count": 23,
   "metadata": {},
   "outputs": [
    {
     "name": "stdout",
     "output_type": "stream",
     "text": [
      "Question: What are the first and last names of all customers with more than 2 payments?\n",
      "Generated SQL query: SELECT T2.first_name, T2.last_name FROM Customer_Payments AS T1 JOIN Customers AS T2 ON T1.customer_id = T2.customer_id GROUP BY T1.customer_id HAVING count(*) > 2\n"
     ]
    }
   ],
   "source": [
    "# Thử nghiệm với câu hỏi mới\n",
    "new_question = \"What are the first and last names of all customers with more than 2 payments?\"\n",
    "input_ids = tokenizer.encode(new_question, return_tensors='pt')\n",
    "outputs = model.generate(input_ids=input_ids, max_length=100, num_beams=5, early_stopping=True)\n",
    "sql_query = tokenizer.decode(outputs[0], skip_special_tokens=True)\n",
    "\n",
    "print(f\"Question: {new_question}\")\n",
    "print(f\"Generated SQL query: {sql_query}\")"
   ]
  },
  {
   "cell_type": "code",
   "execution_count": 21,
   "metadata": {},
   "outputs": [
    {
     "name": "stdout",
     "output_type": "stream",
     "text": [
      "Question: What team has more than 49 laps and a grid of 8?\n",
      "Generated SQL query: SELECT Team FROM laps WHERE laps > 49 INTERSECT SELECT Team FROM grid WHERE grid = 8\n"
     ]
    }
   ],
   "source": [
    "# Thử nghiệm với câu hỏi mới\n",
    "new_question = \"What team has more than 49 laps and a grid of 8?\"\n",
    "input_ids = tokenizer.encode(new_question, return_tensors='pt')\n",
    "outputs = model.generate(input_ids=input_ids, max_length=100, num_beams=5, early_stopping=True)\n",
    "sql_query = tokenizer.decode(outputs[0], skip_special_tokens=True)\n",
    "\n",
    "print(f\"Question: {new_question}\")\n",
    "print(f\"Generated SQL query: {sql_query}\")"
   ]
  }
 ],
 "metadata": {
  "kaggle": {
   "accelerator": "nvidiaTeslaT4",
   "dataSources": [
    {
     "datasetId": 1456187,
     "sourceId": 2409983,
     "sourceType": "datasetVersion"
    }
   ],
   "dockerImageVersionId": 30407,
   "isGpuEnabled": true,
   "isInternetEnabled": false,
   "language": "python",
   "sourceType": "notebook"
  },
  "kernelspec": {
   "display_name": "Python 3 (ipykernel)",
   "language": "python",
   "name": "python3"
  },
  "language_info": {
   "codemirror_mode": {
    "name": "ipython",
    "version": 3
   },
   "file_extension": ".py",
   "mimetype": "text/x-python",
   "name": "python",
   "nbconvert_exporter": "python",
   "pygments_lexer": "ipython3",
   "version": "3.12.3"
  }
 },
 "nbformat": 4,
 "nbformat_minor": 4
}
